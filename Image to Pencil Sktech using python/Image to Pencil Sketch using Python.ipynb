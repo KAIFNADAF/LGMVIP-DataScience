{
 "cells": [
  {
   "cell_type": "markdown",
   "id": "b1d1a907",
   "metadata": {},
   "source": [
    "# Image to Pencil Sketch"
   ]
  },
  {
   "cell_type": "code",
   "execution_count": 1,
   "id": "4d45aa07",
   "metadata": {},
   "outputs": [
    {
     "name": "stdout",
     "output_type": "stream",
     "text": [
      "Collecting opencv-python\n",
      "  Using cached opencv_python-4.7.0.72-cp37-abi3-win_amd64.whl (38.2 MB)\n",
      "Requirement already satisfied: numpy>=1.19.3 in c:\\users\\kaif\\anaconda3\\lib\\site-packages (from opencv-python) (1.23.5)\n",
      "Installing collected packages: opencv-python\n",
      "Successfully installed opencv-python-4.7.0.72\n"
     ]
    }
   ],
   "source": [
    "!pip install opencv-python"
   ]
  },
  {
   "cell_type": "code",
   "execution_count": 6,
   "id": "ca61b714",
   "metadata": {},
   "outputs": [],
   "source": [
    "import cv2\n",
    "\n",
    "# Read the input image\n",
    "image = cv2.imread(\"pic.jpg\")\n",
    "\n",
    "# Convert the image to grayscale\n",
    "gray_image = cv2.cvtColor(image, cv2.COLOR_BGR2GRAY)\n",
    "\n",
    "# Invert the grayscale image\n",
    "inverted_image = cv2.bitwise_not(gray_image)\n",
    "\n",
    "# Apply Gaussian blur to the inverted image\n",
    "blurred_image = cv2.GaussianBlur(inverted_image, (111, 111), 0)\n",
    "\n",
    "# Invert the blurred image\n",
    "inverted_blurred_image = cv2.bitwise_not(blurred_image)\n",
    "\n",
    "# Create the pencil sketch by dividing the grayscale image by the inverted blurred image\n",
    "pencil_sketch = cv2.divide(gray_image, inverted_blurred_image, scale=256.0)\n",
    "\n",
    "# Display the original image and the pencil sketch\n",
    "cv2.imshow(\"Original Image\", image)\n",
    "cv2.imshow(\"Pencil Sketch\", pencil_sketch)\n",
    "cv2.waitKey(0)\n",
    "cv2.destroyAllWindows()\n"
   ]
  },
  {
   "cell_type": "code",
   "execution_count": null,
   "id": "c5ce2ce0",
   "metadata": {},
   "outputs": [],
   "source": []
  },
  {
   "cell_type": "code",
   "execution_count": null,
   "id": "334218fa",
   "metadata": {},
   "outputs": [],
   "source": []
  },
  {
   "cell_type": "code",
   "execution_count": null,
   "id": "87bb6a44",
   "metadata": {},
   "outputs": [],
   "source": []
  }
 ],
 "metadata": {
  "kernelspec": {
   "display_name": "Python 3 (ipykernel)",
   "language": "python",
   "name": "python3"
  },
  "language_info": {
   "codemirror_mode": {
    "name": "ipython",
    "version": 3
   },
   "file_extension": ".py",
   "mimetype": "text/x-python",
   "name": "python",
   "nbconvert_exporter": "python",
   "pygments_lexer": "ipython3",
   "version": "3.10.9"
  }
 },
 "nbformat": 4,
 "nbformat_minor": 5
}
